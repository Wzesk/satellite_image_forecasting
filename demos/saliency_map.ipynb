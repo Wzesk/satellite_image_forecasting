{
 "cells": [
  {
   "cell_type": "markdown",
   "metadata": {},
   "source": [
    "# Analysis of Neural Networks by computing saliency maps (see e.g. https://www.sciencedirect.com/topics/engineering/saliency-map)"
   ]
  },
  {
   "cell_type": "code",
   "execution_count": 2,
   "metadata": {},
   "outputs": [
    {
     "data": {
      "text/plain": [
       "'c:\\\\Users\\\\otomr\\\\OneDrive\\\\Documents\\\\GitHub\\\\drought_impact_forecasting'"
      ]
     },
     "execution_count": 2,
     "metadata": {},
     "output_type": "execute_result"
    }
   ],
   "source": [
    "os.chdir(\"..\") # You should now be in the 'drought_impact_forecasting' folder\n",
    "os.getcwd()"
   ]
  },
  {
   "cell_type": "code",
   "execution_count": 3,
   "metadata": {},
   "outputs": [],
   "source": [
    "import numpy as np\n",
    "import torch"
   ]
  },
  {
   "cell_type": "code",
   "execution_count": 4,
   "metadata": {},
   "outputs": [],
   "source": [
    "from load_model_data import load_data_point, load_model\n",
    "from draw_forecast import visualize_rgb\n",
    "from time_ndvi_plot import plot_ndvi"
   ]
  },
  {
   "cell_type": "markdown",
   "metadata": {},
   "source": [
    "Load two trained models."
   ]
  },
  {
   "cell_type": "code",
   "execution_count": 5,
   "metadata": {},
   "outputs": [],
   "source": [
    "SGConvLSTM = load_model(\"trained_models/SGConvLSTM.ckpt\")\n",
    "SGEDConvLSTM = load_model(\"trained_models/SGEDConvLSTM.ckpt\")"
   ]
  },
  {
   "cell_type": "markdown",
   "metadata": {},
   "source": [
    "Load an example from the extreme data set."
   ]
  },
  {
   "cell_type": "code",
   "execution_count": 6,
   "metadata": {},
   "outputs": [],
   "source": [
    "truth, context, target, npf = load_data_point(test_context_dataset = \"Data/small_data/extreme_context_data_paths.pkl\", \n",
    "                                            test_target_dataset = \"Data/small_data/extreme_target_data_paths.pkl\",\n",
    "                                            index = 1)"
   ]
  },
  {
   "cell_type": "markdown",
   "metadata": {},
   "source": [
    "These lines are important for autograd to know that we want the gradient with respect to the context!"
   ]
  },
  {
   "cell_type": "code",
   "execution_count": 7,
   "metadata": {},
   "outputs": [],
   "source": [
    "context_SG = context.clone().requires_grad_()\n",
    "context_SGED = context.clone().requires_grad_()"
   ]
  },
  {
   "cell_type": "markdown",
   "metadata": {},
   "source": [
    "We can now run inference. This may take a while."
   ]
  },
  {
   "cell_type": "code",
   "execution_count": 8,
   "metadata": {},
   "outputs": [],
   "source": [
    "# Run inference (can be slow) \n",
    "prediction_SG, _, _ = SGConvLSTM(x = context_SG, prediction_count = int((2/3)*truth.shape[-1]), non_pred_feat = npf)\n",
    "prediction_SGED, _, _ = SGEDConvLSTM(x = context_SGED, prediction_count = int((2/3)*truth.shape[-1]), non_pred_feat = npf)"
   ]
  },
  {
   "cell_type": "markdown",
   "metadata": {},
   "source": [
    "We want the response to be the mean NDVI of e.g. the last image. For this, we can define a function."
   ]
  },
  {
   "cell_type": "code",
   "execution_count": 9,
   "metadata": {},
   "outputs": [],
   "source": [
    "def mean_NDVI(prediction):\n",
    "    # compute NDVI \n",
    "    ndvi = ((prediction[:, 3, ...] - prediction[ :, 2, ...]) / (\n",
    "                prediction[:, 3, ...] + prediction[:, 2, ...] + 1e-6))\n",
    "    return torch.mean(ndvi[0, :, :, 0])"
   ]
  },
  {
   "cell_type": "code",
   "execution_count": 10,
   "metadata": {},
   "outputs": [],
   "source": [
    "prediction_mean_ndvi_SG = mean_NDVI(prediction_SG)\n",
    "prediction_mean_ndvi_SGED = mean_NDVI(prediction_SGED)"
   ]
  },
  {
   "cell_type": "markdown",
   "metadata": {},
   "source": [
    "Time to backpropagate. Again, this can take a while."
   ]
  },
  {
   "cell_type": "code",
   "execution_count": 11,
   "metadata": {},
   "outputs": [],
   "source": [
    "g_SG = torch.autograd.grad(prediction_mean_ndvi_SG, context_SG)"
   ]
  },
  {
   "cell_type": "code",
   "execution_count": 12,
   "metadata": {},
   "outputs": [],
   "source": [
    "g_SGED = torch.autograd.grad(prediction_mean_ndvi_SGED, context_SGED)"
   ]
  },
  {
   "cell_type": "markdown",
   "metadata": {},
   "source": [
    "Finally, we can visualize the desired maps."
   ]
  },
  {
   "cell_type": "code",
   "execution_count": 13,
   "metadata": {},
   "outputs": [],
   "source": [
    "import matplotlib.pyplot as plt\n",
    "plt.rcParams['figure.figsize'] = [4, 4]\n",
    "plt.rcParams['figure.dpi'] = 90"
   ]
  },
  {
   "cell_type": "code",
   "execution_count": 14,
   "metadata": {},
   "outputs": [
    {
     "data": {
      "text/plain": [
       "[<matplotlib.lines.Line2D at 0x29b80a05820>]"
      ]
     },
     "execution_count": 14,
     "metadata": {},
     "output_type": "execute_result"
    },
    {
     "data": {
      "image/png": "[encoded data removed]",
      "text/plain": [
       "<Figure size 360x360 with 1 Axes>"
      ]
     },
     "metadata": {
      "needs_background": "light"
     },
     "output_type": "display_data"
    }
   ],
   "source": [
    "plt.plot(torch.abs(torch.mean(g_SG[0][0, 6, :, :, :], dim=(0, 1))))"
   ]
  },
  {
   "cell_type": "code",
   "execution_count": 15,
   "metadata": {},
   "outputs": [
    {
     "data": {
      "text/plain": [
       "<matplotlib.colorbar.Colorbar at 0x29b800e7280>"
      ]
     },
     "execution_count": 15,
     "metadata": {},
     "output_type": "execute_result"
    },
    {
     "data": {
      "image/png": "[encoded data removed]",
      "text/plain": [
       "<Figure size 360x360 with 2 Axes>"
      ]
     },
     "metadata": {
      "needs_background": "light"
     },
     "output_type": "display_data"
    }
   ],
   "source": [
    "plt.imshow((g_SG[0][0, 6, :, :, 19]).permute(1, 0))\n",
    "plt.colorbar()"
   ]
  }
 ],
 "metadata": {
  "interpreter": {
   "hash": "5155301d7b40370d6ef1dff4f0bb7cdd37713540c7e429170bdbd197d16873a1"
  },
  "kernelspec": {
   "display_name": "Python 3.9.9 64-bit",
   "language": "python",
   "name": "python3"
  },
  "language_info": {
   "codemirror_mode": {
    "name": "ipython",
    "version": 3
   },
   "file_extension": ".py",
   "mimetype": "text/x-python",
   "name": "python",
   "nbconvert_exporter": "python",
   "pygments_lexer": "ipython3",
   "version": "3.9.9"
  },
  "orig_nbformat": 4
 },
 "nbformat": 4,
 "nbformat_minor": 2
}
